{
  "nbformat": 4,
  "nbformat_minor": 0,
  "metadata": {
    "colab": {
      "provenance": []
    },
    "kernelspec": {
      "name": "python3",
      "display_name": "Python 3"
    },
    "language_info": {
      "name": "python"
    }
  },
  "cells": [
    {
      "cell_type": "markdown",
      "source": [
        "1. List out the features of HTML5?\n",
        "- Here the list of features of HTML 5\n",
        "*   Semantic Elements (header, footer , main, section etc)\n",
        "*   Audio and video support (Tags like audio & video)\n",
        "*   Canvas element\n",
        "*   Scalable Vector graphics\n"
      ],
      "metadata": {
        "id": "m7Van8daI0Xi"
      }
    },
    {
      "cell_type": "markdown",
      "source": [
        "2. What are HTML Entities? List out 5 commonly used HTML entities?\n",
        "- Special codes to display reserved characters. Help display symbols that have special meanings in HTML. Ensure characters are rendered correctly. Prevent HTML code from breaking. Used to display invisible characters\n",
        "\n",
        "\n",
        "*   &lt: - < less than\n",
        "*   &gt: - > greater than\n",
        "*   &amp: - & Ampersand\n",
        "*   &quot: - \" double quotion\n",
        "*   &nbsp: -  non breaking space\n",
        "\n"
      ],
      "metadata": {
        "id": "D-hYSASVKBY9"
      }
    },
    {
      "cell_type": "markdown",
      "source": [
        "3. Define accessibility in the context of web development. Discuss why it's essential to create accessible websites and how it benefits different user group?\n",
        "- Accessibility is important in web development because it ensure that website is usable by every user group including google crawlers to check what website is for..it's important for SEO prospect as well"
      ],
      "metadata": {
        "id": "hk4gSAnJLaik"
      }
    },
    {
      "cell_type": "markdown",
      "source": [
        "4. List any 3 ways which help us in improving the accessibility of HTML?\n",
        "*   Use Sementic HTML tags (header, footer, section , main)\n",
        "*   Use Alt Text in images to describe about the image\n",
        "*   Keyboard Navigation\n",
        "\n"
      ],
      "metadata": {
        "id": "7bxUJgWVMFde"
      }
    },
    {
      "cell_type": "markdown",
      "source": [
        "5. Create a web page that highlights the features of HTML5. Use appropriate semantic tags to structure the content and showcase at least three key features of HTML5 with explanations?"
      ],
      "metadata": {
        "id": "BVAgPgg4MyTk"
      }
    },
    {
      "cell_type": "code",
      "source": [
        "<!DOCTYPE html>\n",
        "<html lang=\"en\">\n",
        "<head>\n",
        "    <title>Assignment 4</title>\n",
        "</head>\n",
        "<body>\n",
        "    <header>\n",
        "\n",
        "    <h1> Key Features of HTML 5</h1>\n",
        "    <p>Explore the features </p>\n",
        "    </header>\n",
        "    <main>\n",
        "        <section>\n",
        "            <h2> Video elements </h2>\n",
        "            <video src=\"https://www.google.com/imgres?q=web%20development%20video&imgurl=https%3A%2F%2Fstatic.vecteezy.com%2Fsystem%2Fresources%2Fthumbnails%2F024%2F186%2F673%2Fsmall_2x%2Fcoding-programming-web-development-modern-design-concept-free-video.jpg&imgrefurl=https%3A%2F%2Fwww.vecteezy.com%2Ffree-videos%2Fweb-development&docid=tj4_xjwHLKSYWM&tbnid=uYDdHWnjPrUyyM&vet=12ahUKEwiQxO_8k-aMAxVezDgGHQc9OJsQM3oECEoQAA..i&w=711&h=400&hcb=2&ved=2ahUKEwiQxO_8k-aMAxVezDgGHQc9OJsQM3oECEoQAA\" controls autoplay > Web development Video  </video>\n",
        "        </section>\n",
        "<section>\n",
        "<h2>\n",
        "    Canvas ELements\n",
        "</h2>\n",
        "<p> The <code>&lt;Canvas &gt;</code>elements let you draw graphics </p>\n",
        "</section>\n",
        "    </main>\n",
        "\n",
        "</body>\n",
        "</html>"
      ],
      "metadata": {
        "id": "KD2KKkFoQKDZ"
      },
      "execution_count": null,
      "outputs": []
    },
    {
      "cell_type": "markdown",
      "source": [
        "6. Create a simple web page which has a table. The table must have 2 columns HTML and HTML5. The table should include a minimum of three rows describing the differences between HTML and HTML5."
      ],
      "metadata": {
        "id": "nWDaTogGQL2N"
      }
    },
    {
      "cell_type": "code",
      "source": [
        "<!DOCTYPE html>\n",
        "<html lang=\"en\">\n",
        "<head>\n",
        "    <title>HTML & HTML 5 Difference</title>\n",
        "</head>\n",
        "<body>\n",
        "    <table border=\"1\" cellpadding=\"5\" cellspacing=\"5\">\n",
        "        <tr>\n",
        "            <th>HTML </th>\n",
        "            <th> HTML 5 </th>\n",
        "        </tr>\n",
        "        <tr>\n",
        "            <td>It contains elaborate types of character encoding </td>\n",
        "            <td> It contains easier types of character encoding</td>\n",
        "        </tr>\n",
        "        <tr>\n",
        "            <td> It does not support audio and video without the use of a flash player.</td>\n",
        "            <td> It supports audio and video controls with the use of <audio> and <video> tags.</td>\n",
        "        </tr>\n",
        "        <tr>\n",
        "            <td> HTML uses browser cache memory as temporary storage.</td>\n",
        "            <td>HTML5 offers multiple storage options, such as an SQL database, application cache, and web storage </td>\n",
        "        </tr>\n",
        "    </table>\n",
        "</body>\n",
        "</html>"
      ],
      "metadata": {
        "id": "OaWbH5cWSN6W"
      },
      "execution_count": null,
      "outputs": []
    },
    {
      "cell_type": "code",
      "execution_count": null,
      "metadata": {
        "id": "mb_3cTw8IraL"
      },
      "outputs": [],
      "source": []
    }
  ]
}